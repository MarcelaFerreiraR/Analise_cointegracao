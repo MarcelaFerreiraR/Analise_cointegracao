{
  "nbformat": 4,
  "nbformat_minor": 0,
  "metadata": {
    "colab": {
      "provenance": [],
      "authorship_tag": "ABX9TyN1Jt4lrnq5tMuYgzi4GZtM",
      "include_colab_link": true
    },
    "kernelspec": {
      "name": "python3",
      "display_name": "Python 3"
    },
    "language_info": {
      "name": "python"
    }
  },
  "cells": [
    {
      "cell_type": "markdown",
      "metadata": {
        "id": "view-in-github",
        "colab_type": "text"
      },
      "source": [
        "<a href=\"https://colab.research.google.com/github/MarcelaFerreiraR/brazilian-stock-analysis/blob/main/Brazilian_Stock_Market_Analysis_Dashboard.ipynb\" target=\"_parent\"><img src=\"https://colab.research.google.com/assets/colab-badge.svg\" alt=\"Open In Colab\"/></a>"
      ]
    },
    {
      "cell_type": "code",
      "execution_count": null,
      "metadata": {
        "id": "LJ20r4t8pUI-"
      },
      "outputs": [],
      "source": [
        "#Baixar as bibliotecas\n",
        "import pandas as pd\n",
        "import requests\n",
        "from bs4 import BeautifulSoup\n",
        "import yfinance as yf\n",
        "from datetime import datetime\n",
        "import numpy as np\n",
        "import statsmodels.api as sm\n",
        "from statsmodels.tsa.stattools import coint\n",
        "import matplotlib.pyplot as plt\n",
        "import seaborn as sns"
      ]
    },
    {
      "cell_type": "code",
      "source": [
        "# URL do TradingView\n",
        "url = \"https://br.tradingview.com/markets/stocks-brazil/market-movers-active/\"\n",
        "\n",
        "# Ler a página (usando requests e BeautifulSoup)\n",
        "response = requests.get(url)\n",
        "soup = BeautifulSoup(response.text, 'html.parser')\n",
        "\n",
        "# Extrair tabelas (ajustar para encontrar a tabela correta, se necessário)\n",
        "tables = pd.read_html(str(soup.find('table')))[0]  # Pegar a primeira tabela encontrada\n",
        "\n",
        "# Selecionar colunas relevantes (Ticker e Setor, removendo Volume completamente)\n",
        "dados = tables.iloc[:, [0, -2]].copy()  # Pegar colunas 0 (Ticker) e penúltima (Setor), removendo Volume\n",
        "dados.columns = ['Ticker', 'Setor']  # Renomear colunas, excluindo Volume\n",
        "\n",
        "# Função para extrair o ticker correto (4 letras + 1 número)\n",
        "dados['Ticker'] = dados['Ticker'].str.extract(r'([A-Z]{4}[0-9])')\n",
        "\n",
        "# Preencher dados vazios no Ticker com 'B3SA3'\n",
        "dados['Ticker'] = dados['Ticker'].fillna('B3SA3')\n",
        "\n",
        "# Lista de tickers limpos\n",
        "tickers = dados['Ticker'].tolist()\n",
        "tickers = [ticker + \".SA\" for ticker in tickers]  # Adicionar \".SA\" a cada ticker\n"
      ],
      "metadata": {
        "id": "6RK3_-DqpvQR"
      },
      "execution_count": null,
      "outputs": []
    },
    {
      "cell_type": "code",
      "source": [
        "# Baixar os dados do Yahoo Finance usando yfinance\n",
        "end_date = datetime.now().date()\n",
        "start_date = datetime(2022, 1, 1).date()\n",
        "dados_acoes = yf.download(tickers, start=start_date, end=end_date)\n",
        "\n",
        "# Verificar o estado inicial de dados_acoes antes de qualquer manipulação\n",
        "print(\"\\nEstado inicial de dados_acoes (colunas e índice):\")\n",
        "print(\"Colunas:\", dados_acoes.columns)\n",
        "print(\"Índice:\", dados_acoes.index)"
      ],
      "metadata": {
        "id": "UbDlFO_0pvu6"
      },
      "execution_count": null,
      "outputs": []
    },
    {
      "cell_type": "code",
      "source": [
        "print(dados_acoes.info())"
      ],
      "metadata": {
        "id": "Hj7TNgo1PNlO"
      },
      "execution_count": null,
      "outputs": []
    },
    {
      "cell_type": "code",
      "source": [
        "print(dados_acoes.head())"
      ],
      "metadata": {
        "id": "eD7ssMF_QSiO"
      },
      "execution_count": null,
      "outputs": []
    },
    {
      "cell_type": "code",
      "source": [
        "# Resetar o índice para tornar 'Date' uma coluna (mantendo 'Date' como coluna)\n",
        "dados_acoes = dados_acoes.reset_index()"
      ],
      "metadata": {
        "id": "pD_dukjJqk8u"
      },
      "execution_count": null,
      "outputs": []
    },
    {
      "cell_type": "code",
      "source": [
        "print(dados_acoes.info())"
      ],
      "metadata": {
        "id": "iRjAXE_SQAUf"
      },
      "execution_count": null,
      "outputs": []
    },
    {
      "cell_type": "code",
      "source": [
        "# Restaurar 'Date' como índice para facilitar a manipulação com stack\n",
        "dados_acoes = dados_acoes.set_index(('Date', ''))\n",
        "\n",
        "# Usar stack para transformar de wide para long, mantendo o MultiIndex nas colunas\n",
        "dados_long = dados_acoes.stack(level='Ticker')\n",
        "\n",
        "# Resetar o índice para ter todas as variáveis como colunas\n",
        "dados_long = dados_long.reset_index()"
      ],
      "metadata": {
        "id": "lWW2F6HOp9sc"
      },
      "execution_count": null,
      "outputs": []
    },
    {
      "cell_type": "code",
      "source": [
        "print(dados_long.info())"
      ],
      "metadata": {
        "id": "Mzb_h0sxQFX3"
      },
      "execution_count": null,
      "outputs": []
    },
    {
      "cell_type": "code",
      "source": [
        "print(dados_long.head())"
      ],
      "metadata": {
        "id": "rb7t5-FHRKvS"
      },
      "execution_count": null,
      "outputs": []
    },
    {
      "cell_type": "code",
      "source": [
        "# Verificar o resultado\n",
        "print(\"\\nDataFrame após stack e reset_index (long format):\")\n",
        "print(dados_long.head())\n",
        "print(\"Colunas após transformação:\", dados_long.columns)"
      ],
      "metadata": {
        "id": "eaJbMmZrrFY1"
      },
      "execution_count": null,
      "outputs": []
    },
    {
      "cell_type": "code",
      "source": [
        "dados_long.columns = [col[0] if isinstance(col, tuple) else col for col in dados_long.columns]"
      ],
      "metadata": {
        "id": "Jo8mL5RNs47T"
      },
      "execution_count": null,
      "outputs": []
    },
    {
      "cell_type": "code",
      "source": [
        "dados_long = dados_long.rename(columns={\"Date\": \"date\"})\n",
        "dados_long = dados_long.rename(columns={'Ticker': 'acao'})"
      ],
      "metadata": {
        "id": "1xCUEUAJrjAB"
      },
      "execution_count": null,
      "outputs": []
    },
    {
      "cell_type": "code",
      "source": [
        "# Converter a coluna 'Date' para o formato Date\n",
        "dados_long['date'] = pd.to_datetime(dados_long['date'])\n",
        "\n",
        "# Criar colunas de período\n",
        "dados_long['dia'] = dados_long['date'].dt.date  # Dia (data completa)\n",
        "dados_long['semana'] = dados_long['date'].dt.strftime('%U/%Y')  # Semana (WW/YY)\n",
        "dados_long['quinzenal'] = dados_long['date'].apply(lambda x: f\"{x.day <= 15 and '01' or '16'}/{x.year}\")  # Quinzena (01 ou 16/ano)\n",
        "dados_long['mes'] = dados_long['date'].dt.strftime('%b')  # Mês (MM/YY)\n",
        "dados_long['ano'] = dados_long['date'].dt.strftime('%Y')  # Ano\n",
        "\n",
        "print(dados_long.head())"
      ],
      "metadata": {
        "id": "Z-YbiKe6WziU"
      },
      "execution_count": null,
      "outputs": []
    },
    {
      "cell_type": "code",
      "source": [
        "# Verificar o resultado\n",
        "print(\"\\nDataFrame após stack e reset_index (long format):\")\n",
        "print(dados_long.head())\n",
        "print(\"Colunas após transformação:\", dados_long.columns)"
      ],
      "metadata": {
        "id": "fvkF8jFQtRyD"
      },
      "execution_count": null,
      "outputs": []
    },
    {
      "cell_type": "code",
      "source": [
        "# Verificar novamente após o filtro para VALE3.SA\n",
        "print(\"\\nDataFrame após filtro para 'Close' e conversão para VALE3.SA:\")\n",
        "print(dados_long[dados_long['acao'] == 'VALE3.SA']['date'].head(10))\n",
        "print(\"Número de dias únicos para VALE3.SA após filtro:\", dados_long[dados_long['acao'] == 'VALE3.SA']['date'].nunique())\n",
        "print(\"Gaps detectados em VALE3.SA após filtro:\")\n",
        "dates = dados_long[dados_long['acao'] == 'VALE3.SA']['date'].sort_values()\n",
        "gaps = dates.diff().dt.days > 1\n",
        "print(dates[gaps])"
      ],
      "metadata": {
        "id": "GGG47-flrxHa"
      },
      "execution_count": null,
      "outputs": []
    },
    {
      "cell_type": "code",
      "source": [
        "# Ordenar dados_long por 'date' e 'acao' para garantir consecutividade\n",
        "dados_long = dados_long.sort_values(['date', 'acao'])\n",
        "\n",
        "# Verificar o número de dias por ticker antes de calcular os retornos\n",
        "print(\"\\nNúmero de dias por ticker em 'dados_long':\")\n",
        "for ticker in tickers:\n",
        "    days_count = dados_long[dados_long['acao'] == ticker]['date'].nunique()\n",
        "    print(f\"{ticker}: {days_count} dias únicos\")"
      ],
      "metadata": {
        "id": "7iTqS9Xrts56"
      },
      "execution_count": null,
      "outputs": []
    },
    {
      "cell_type": "code",
      "source": [
        "# Análise detalhada dos valores vazios na coluna Retorno_ticker (para depuração, mas não impacta o resultado final)\n",
        "print(\"Quantidade de valores NaN em 'Retorno_ticker':\", dados_long.isna().sum())\n",
        "print(\"Porcentagem de valores NaN em 'Retorno_ticker':\", (dados_long.isna().sum() / len(dados_long)) * 100, \"%\")"
      ],
      "metadata": {
        "id": "ns7QPbhz22Ap"
      },
      "execution_count": null,
      "outputs": []
    },
    {
      "cell_type": "code",
      "source": [
        "print(dados_long.info())"
      ],
      "metadata": {
        "id": "Du4vJ1EK3AQ5"
      },
      "execution_count": null,
      "outputs": []
    },
    {
      "cell_type": "code",
      "source": [
        "# Usar Close para cálculos de retorno\n",
        "dados_long['retorno'] = dados_long.groupby('acao')['Close'].transform(lambda x: x.pct_change() * 100)"
      ],
      "metadata": {
        "id": "knp6fvT3RsHp"
      },
      "execution_count": null,
      "outputs": []
    },
    {
      "cell_type": "code",
      "source": [
        "print(dados_long.info())\n",
        "print(dados_long.head())"
      ],
      "metadata": {
        "id": "9ucx_i71SCqr"
      },
      "execution_count": null,
      "outputs": []
    },
    {
      "cell_type": "code",
      "source": [
        "print(dados_long.retorno.tail())"
      ],
      "metadata": {
        "id": "mxW3eYVRSZpv"
      },
      "execution_count": null,
      "outputs": []
    },
    {
      "cell_type": "code",
      "source": [
        "def analisar_pares(acao1, acao2, dados):\n",
        "    \"\"\"\n",
        "    Função para análise de pares de ativos (Long & Short)\n",
        "\n",
        "    Parâmetros:\n",
        "    - acao1: Primeiro ativo para análise\n",
        "    - acao2: Segundo ativo para análise\n",
        "    - dados: DataFrame com colunas 'date', 'acao', 'retorno'\n",
        "    \"\"\"\n",
        "    try:\n",
        "        # Pivotear os dados para ter retornos por ação\n",
        "        df = dados.pivot(index='date', columns='acao', values='retorno')\n",
        "\n",
        "        # Verificar se as ações existem no DataFrame\n",
        "        if acao1 not in df.columns or acao2 not in df.columns:\n",
        "            raise ValueError(f\"Erro: {acao1} ou {acao2} não encontradas nos dados!\")\n",
        "\n",
        "        # Remover valores NaN\n",
        "        df_filtrado = df[[acao1, acao2]].dropna()\n",
        "\n",
        "        # Correlação\n",
        "        correlacao = df_filtrado[acao1].corr(df_filtrado[acao2])\n",
        "        print(f\"Correlação entre {acao1} e {acao2}: {correlacao:.4f}\")\n",
        "\n",
        "        # Beta\n",
        "        X = sm.add_constant(df_filtrado[acao2])\n",
        "        y = df_filtrado[acao1]\n",
        "        model = sm.OLS(y, X).fit()\n",
        "        beta = model.params[acao2]\n",
        "        print(f\"Beta de {acao1} em relação a {acao2}: {beta:.4f}\")\n",
        "\n",
        "        # Teste de Cointegração\n",
        "        score, p_value, _ = coint(df_filtrado[acao1], df_filtrado[acao2])\n",
        "        print(f\"Teste de Cointegração p-value: {p_value:.4f}\")\n",
        "\n",
        "        # Plotar Spread\n",
        "        spread = df_filtrado[acao1] - beta * df_filtrado[acao2]\n",
        "        plt.figure(figsize=(12, 6))\n",
        "        plt.plot(df_filtrado.index, spread, label=\"Spread\")\n",
        "        plt.axhline(spread.mean(), color='red', linestyle='--', label=\"Média do Spread\")\n",
        "        plt.title(f\"Spread entre {acao1} e {acao2}\")\n",
        "        plt.xlabel(\"Data\")\n",
        "        plt.ylabel(\"Spread\")\n",
        "        plt.legend()\n",
        "        plt.tight_layout()\n",
        "        plt.show()\n",
        "\n",
        "        # Retornar métricas adicionais\n",
        "        return {\n",
        "            'correlacao': correlacao,\n",
        "            'beta': beta,\n",
        "            'p_value_coint': p_value,\n",
        "            'spread_mean': spread.mean(),\n",
        "            'spread_std': spread.std()\n",
        "        }\n",
        "\n",
        "    except Exception as e:\n",
        "        print(f\"Erro na análise de pares: {e}\")\n",
        "        return None"
      ],
      "metadata": {
        "id": "ZQFZDlYlNEl8"
      },
      "execution_count": null,
      "outputs": []
    },
    {
      "cell_type": "code",
      "source": [
        "# Supondo que você tenha um DataFrame chamado 'dados_acoes'\n",
        "resultado = analisar_pares('ANIM3.SA', 'ASAI3.SA', dados_long)\n"
      ],
      "metadata": {
        "id": "Whazo1GOOCGY"
      },
      "execution_count": null,
      "outputs": []
    }
  ]
}